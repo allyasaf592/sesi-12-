{
 "cells": [
  {
   "cell_type": "code",
   "execution_count": 4,
   "id": "32b2b39f",
   "metadata": {},
   "outputs": [
    {
     "name": "stdout",
     "output_type": "stream",
     "text": [
      "Masukan text: Alya Safira\n",
      "text:  Alya Safira\n",
      "Jumlah uppercase:  2\n"
     ]
    }
   ],
   "source": [
    "from module import upperCaseCount\n",
    "\n",
    "text = input(\"Masukan text: \")\n",
    "\n",
    "uppercase = upperCaseCount(text)\n",
    "print(\"text: \", text)\n",
    "print(\"Jumlah uppercase: \", uppercase)"
   ]
  }
 ],
 "metadata": {
  "kernelspec": {
   "display_name": "Python 3 (ipykernel)",
   "language": "python",
   "name": "python3"
  },
  "language_info": {
   "codemirror_mode": {
    "name": "ipython",
    "version": 3
   },
   "file_extension": ".py",
   "mimetype": "text/x-python",
   "name": "python",
   "nbconvert_exporter": "python",
   "pygments_lexer": "ipython3",
   "version": "3.9.12"
  }
 },
 "nbformat": 4,
 "nbformat_minor": 5
}
